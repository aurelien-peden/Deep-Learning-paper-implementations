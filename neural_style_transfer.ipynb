{
 "metadata": {
  "language_info": {
   "codemirror_mode": {
    "name": "ipython",
    "version": 3
   },
   "file_extension": ".py",
   "mimetype": "text/x-python",
   "name": "python",
   "nbconvert_exporter": "python",
   "pygments_lexer": "ipython3",
   "version": "3.7.3-final"
  },
  "orig_nbformat": 2,
  "kernelspec": {
   "name": "python37364bitbaseconda41d0ba828c02470fbb2d3403982a99a2",
   "display_name": "Python 3.7.3 64-bit ('base': conda)"
  }
 },
 "nbformat": 4,
 "nbformat_minor": 2,
 "cells": [
  {
   "cell_type": "code",
   "execution_count": 10,
   "metadata": {},
   "outputs": [],
   "source": [
    "import torch\n",
    "import torch.nn as nn\n",
    "import torch.optim as optim\n",
    "from PIL import Image\n",
    "import torchvision.transforms as transforms\n",
    "import torchvision.models as models\n",
    "from torchvision.utils import save_image"
   ]
  },
  {
   "cell_type": "code",
   "execution_count": 11,
   "metadata": {
    "tags": []
   },
   "outputs": [
    {
     "output_type": "stream",
     "name": "stdout",
     "text": "Sequential(\n  (0): Conv2d(3, 64, kernel_size=(3, 3), stride=(1, 1), padding=(1, 1))\n  (1): ReLU(inplace=True)\n  (2): Conv2d(64, 64, kernel_size=(3, 3), stride=(1, 1), padding=(1, 1))\n  (3): ReLU(inplace=True)\n  (4): MaxPool2d(kernel_size=2, stride=2, padding=0, dilation=1, ceil_mode=False)\n  (5): Conv2d(64, 128, kernel_size=(3, 3), stride=(1, 1), padding=(1, 1))\n  (6): ReLU(inplace=True)\n  (7): Conv2d(128, 128, kernel_size=(3, 3), stride=(1, 1), padding=(1, 1))\n  (8): ReLU(inplace=True)\n  (9): MaxPool2d(kernel_size=2, stride=2, padding=0, dilation=1, ceil_mode=False)\n  (10): Conv2d(128, 256, kernel_size=(3, 3), stride=(1, 1), padding=(1, 1))\n  (11): ReLU(inplace=True)\n  (12): Conv2d(256, 256, kernel_size=(3, 3), stride=(1, 1), padding=(1, 1))\n  (13): ReLU(inplace=True)\n  (14): Conv2d(256, 256, kernel_size=(3, 3), stride=(1, 1), padding=(1, 1))\n  (15): ReLU(inplace=True)\n  (16): Conv2d(256, 256, kernel_size=(3, 3), stride=(1, 1), padding=(1, 1))\n  (17): ReLU(inplace=True)\n  (18): MaxPool2d(kernel_size=2, stride=2, padding=0, dilation=1, ceil_mode=False)\n  (19): Conv2d(256, 512, kernel_size=(3, 3), stride=(1, 1), padding=(1, 1))\n  (20): ReLU(inplace=True)\n  (21): Conv2d(512, 512, kernel_size=(3, 3), stride=(1, 1), padding=(1, 1))\n  (22): ReLU(inplace=True)\n  (23): Conv2d(512, 512, kernel_size=(3, 3), stride=(1, 1), padding=(1, 1))\n  (24): ReLU(inplace=True)\n  (25): Conv2d(512, 512, kernel_size=(3, 3), stride=(1, 1), padding=(1, 1))\n  (26): ReLU(inplace=True)\n  (27): MaxPool2d(kernel_size=2, stride=2, padding=0, dilation=1, ceil_mode=False)\n  (28): Conv2d(512, 512, kernel_size=(3, 3), stride=(1, 1), padding=(1, 1))\n  (29): ReLU(inplace=True)\n  (30): Conv2d(512, 512, kernel_size=(3, 3), stride=(1, 1), padding=(1, 1))\n  (31): ReLU(inplace=True)\n  (32): Conv2d(512, 512, kernel_size=(3, 3), stride=(1, 1), padding=(1, 1))\n  (33): ReLU(inplace=True)\n  (34): Conv2d(512, 512, kernel_size=(3, 3), stride=(1, 1), padding=(1, 1))\n  (35): ReLU(inplace=True)\n  (36): MaxPool2d(kernel_size=2, stride=2, padding=0, dilation=1, ceil_mode=False)\n)\n"
    }
   ],
   "source": [
    "model = models.vgg19(pretrained=True).features\n",
    "print(model)"
   ]
  },
  {
   "cell_type": "code",
   "execution_count": 12,
   "metadata": {},
   "outputs": [],
   "source": [
    "class VGG(nn.Module):\n",
    "\n",
    "    def __init__(self):\n",
    "        super(VGG, self).__init__()\n",
    "\n",
    "        self.chosen_features = ['0', '5', '10', '19', '28']\n",
    "        self.model = models.vgg19(pretrained=True).features[:29]\n",
    "\n",
    "    def forward(self, x):\n",
    "        features = []\n",
    "\n",
    "        for layer_n, layer in enumerate(self.model):\n",
    "            x = layer(x)\n",
    "\n",
    "            if str(layer_n) in self.chosen_features:\n",
    "                features.append(x)\n",
    "\n",
    "        return features"
   ]
  },
  {
   "cell_type": "code",
   "execution_count": 13,
   "metadata": {},
   "outputs": [],
   "source": [
    "def load_image(image_name):\n",
    "    image = Image.open(image_name)\n",
    "    image = loader(image).unsqueeze(0)\n",
    "    return image.to(device)"
   ]
  },
  {
   "cell_type": "code",
   "execution_count": 14,
   "metadata": {},
   "outputs": [],
   "source": [
    "device = torch.device('cuda' if torch.cuda.is_available() else 'cpu')\n",
    "image_size = 356"
   ]
  },
  {
   "cell_type": "code",
   "execution_count": 15,
   "metadata": {},
   "outputs": [],
   "source": [
    "loader = transforms.Compose([\n",
    "    transforms.Resize((image_size, image_size)),\n",
    "    transforms.ToTensor(),\n",
    "])"
   ]
  },
  {
   "cell_type": "code",
   "execution_count": 16,
   "metadata": {},
   "outputs": [],
   "source": [
    "original_img = load_image(\"original.jpg\")\n",
    "style_img = load_image(\"style.jpg\")\n",
    "#generated = torch.randn(original_img.shape, device=device, requires_grad=True)\n",
    "generated = original_img.clone().requires_grad(True)"
   ]
  },
  {
   "cell_type": "code",
   "execution_count": 17,
   "metadata": {},
   "outputs": [],
   "source": [
    "total_steps = 6000\n",
    "learning_rate = 0.001\n",
    "#Not the same value as the original paper\n",
    "alpha = 1\n",
    "beta = 0.01\n",
    "optimizer = optim.Adam([generated], lr=learning_rate)"
   ]
  },
  {
   "cell_type": "code",
   "execution_count": 18,
   "metadata": {},
   "outputs": [],
   "source": [
    "model = VGG().to(device).eval() #freeze weights"
   ]
  },
  {
   "cell_type": "code",
   "execution_count": 19,
   "metadata": {
    "tags": []
   },
   "outputs": [
    {
     "output_type": "stream",
     "name": "stdout",
     "text": "tensor(5.6667e+08, device='cuda:0', grad_fn=<AddBackward0>)\ntensor(1.9346e+08, device='cuda:0', grad_fn=<AddBackward0>)\ntensor(1.0101e+08, device='cuda:0', grad_fn=<AddBackward0>)\ntensor(62773408., device='cuda:0', grad_fn=<AddBackward0>)\ntensor(43015628., device='cuda:0', grad_fn=<AddBackward0>)\ntensor(31378500., device='cuda:0', grad_fn=<AddBackward0>)\ntensor(23910148., device='cuda:0', grad_fn=<AddBackward0>)\ntensor(18816808., device='cuda:0', grad_fn=<AddBackward0>)\ntensor(15179368., device='cuda:0', grad_fn=<AddBackward0>)\ntensor(12464425., device='cuda:0', grad_fn=<AddBackward0>)\ntensor(10346301., device='cuda:0', grad_fn=<AddBackward0>)\ntensor(8649906., device='cuda:0', grad_fn=<AddBackward0>)\ntensor(7315893.5000, device='cuda:0', grad_fn=<AddBackward0>)\ntensor(6258705.5000, device='cuda:0', grad_fn=<AddBackward0>)\ntensor(5403838., device='cuda:0', grad_fn=<AddBackward0>)\ntensor(4696684., device='cuda:0', grad_fn=<AddBackward0>)\ntensor(4104842.5000, device='cuda:0', grad_fn=<AddBackward0>)\ntensor(3600588.7500, device='cuda:0', grad_fn=<AddBackward0>)\ntensor(3162686.7500, device='cuda:0', grad_fn=<AddBackward0>)\ntensor(2780049.2500, device='cuda:0', grad_fn=<AddBackward0>)\ntensor(2445142.7500, device='cuda:0', grad_fn=<AddBackward0>)\ntensor(2149819.2500, device='cuda:0', grad_fn=<AddBackward0>)\ntensor(1889046., device='cuda:0', grad_fn=<AddBackward0>)\ntensor(1663628., device='cuda:0', grad_fn=<AddBackward0>)\ntensor(1467227.3750, device='cuda:0', grad_fn=<AddBackward0>)\ntensor(1295216.3750, device='cuda:0', grad_fn=<AddBackward0>)\ntensor(1144444.6250, device='cuda:0', grad_fn=<AddBackward0>)\ntensor(1011775.5000, device='cuda:0', grad_fn=<AddBackward0>)\ntensor(896027.0625, device='cuda:0', grad_fn=<AddBackward0>)\ntensor(795552.8125, device='cuda:0', grad_fn=<AddBackward0>)\n"
    }
   ],
   "source": [
    "for step in range(total_steps):\n",
    "    generated_features = model(generated)\n",
    "    original_img_features = model(original_img)\n",
    "    style_features = model(style_img)\n",
    "\n",
    "    style_loss = content_loss = 0\n",
    "\n",
    "    for gen_feature, orig_feature, style_feature in zip(generated_features, original_img_features, style_features):\n",
    "        batch_size, channel, height, width = gen_feature.shape\n",
    "        content_loss += torch.mean((gen_feature - orig_feature)**2)\n",
    "\n",
    "        G = gen_feature.view(channel, height*width).mm(gen_feature.view(channel, height*width).t())\n",
    "        A = style_feature.view(channel, height*width).mm(style_feature.view(channel, height*width).t())\n",
    "\n",
    "        style_loss += torch.mean((G - A)**2)\n",
    "\n",
    "    total_loss = alpha * content_loss + beta * style_loss\n",
    "    optimizer.zero_grad()\n",
    "    total_loss.backward()\n",
    "    optimizer.step()\n",
    "\n",
    "    if step % 200 == 0:\n",
    "        print(total_loss)\n",
    "        save_image(generated, \"generated.png\")"
   ]
  },
  {
   "cell_type": "code",
   "execution_count": null,
   "metadata": {},
   "outputs": [],
   "source": []
  }
 ]
}
